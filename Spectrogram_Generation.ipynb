{
 "cells": [
  {
   "cell_type": "code",
   "execution_count": 3,
   "metadata": {
    "id": "L0elJIpEki1P"
   },
   "outputs": [],
   "source": [
    "# Adopted from https://github.com/spro66/ML-for--Bioacoustic-Classification/blob/main/Spectrogram_Generation.ipynb\n",
    "\n",
    "import librosa\n",
    "import matplotlib.pyplot as plt\n",
    "import librosa.display\n",
    "from pathlib import Path\n",
    "import matplotlib.pyplot as plot\n",
    "from scipy.io import wavfile\n",
    "import numpy as np\n",
    "import pylab\n",
    "import imageio\n",
    "import cv2"
   ]
  },
  {
   "cell_type": "code",
   "execution_count": 8,
   "metadata": {},
   "outputs": [
    {
     "name": "stdout",
     "output_type": "stream",
     "text": [
      "(128, 640)\n"
     ]
    }
   ],
   "source": [
    "PATH = \"Directory_path/file_name.wav\"\n",
    "\n",
    "wavs = PATH\n",
    "\n",
    "#number_of_files=len(wavs)\n",
    "number_of_files=1\n",
    "\n",
    "spk_ID = [wavs.split('/')[-1][:-4].lower() for i in range(number_of_files)]\n",
    "\n",
    "for i in range(number_of_files):\n",
    "    y, sr = librosa.load(wavs, sr=None)\n",
    "      \n",
    "    p =librosa.stft(y)\n",
    "    S = librosa.feature.melspectrogram(y, sr=sr, n_fft=2048, hop_length=512)\n",
    "    log_S = librosa.amplitude_to_db(S)\n",
    "      \n",
    "    mean = log_S.mean()\n",
    "    std = log_S.std()\n",
    "    S_norm = (log_S - mean) / (std + 1e-6)\n",
    "    S_min, S_max = S_norm.min(), S_norm.max()\n",
    "    S_scaled = 255 * (S_norm - S_min) / (S_max - S_min)\n",
    "    S_scaled = S_scaled.astype(np.uint8)\n",
    "\n",
    "    save_path = 'Path_to_save_generated_spectrograms/'\n",
    "    print(S_scaled.shape)\n",
    "    imageio.imwrite(str(save_path)+\"{}.png\".format(spk_ID[i]),S_scaled[::-1])"
   ]
  },
  {
   "cell_type": "code",
   "execution_count": 9,
   "metadata": {},
   "outputs": [
    {
     "name": "stdout",
     "output_type": "stream",
     "text": [
      "(128, 640)\n"
     ]
    }
   ],
   "source": [
    "path = \"Saved_Spectrogram's_path/\"\n",
    "pic = imageio.imread(path + \"call-chimp-arn-ph,pg-rt,rn_69_181117_clip26-loa_132912_100000.png\")\n",
    "print(pic.shape)"
   ]
  },
  {
   "cell_type": "code",
   "execution_count": null,
   "metadata": {},
   "outputs": [],
   "source": []
  },
  {
   "cell_type": "code",
   "execution_count": null,
   "metadata": {},
   "outputs": [],
   "source": []
  },
  {
   "cell_type": "code",
   "execution_count": null,
   "metadata": {},
   "outputs": [],
   "source": []
  },
  {
   "cell_type": "code",
   "execution_count": null,
   "metadata": {},
   "outputs": [],
   "source": []
  }
 ],
 "metadata": {
  "colab": {
   "authorship_tag": "ABX9TyNkvzU1y2Yb2S0Q2LNEiO6m",
   "collapsed_sections": [],
   "name": "Spectrogram Generation.ipynb",
   "provenance": []
  },
  "kernelspec": {
   "display_name": "Python 3",
   "language": "python",
   "name": "python3"
  },
  "language_info": {
   "codemirror_mode": {
    "name": "ipython",
    "version": 3
   },
   "file_extension": ".py",
   "mimetype": "text/x-python",
   "name": "python",
   "nbconvert_exporter": "python",
   "pygments_lexer": "ipython3",
   "version": "3.7.9"
  }
 },
 "nbformat": 4,
 "nbformat_minor": 1
}
